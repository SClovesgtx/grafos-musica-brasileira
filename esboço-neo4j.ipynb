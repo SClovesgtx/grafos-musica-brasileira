{
 "cells": [
  {
   "cell_type": "code",
   "execution_count": 1,
   "metadata": {},
   "outputs": [],
   "source": [
    "from py2neo import Graph\n",
    "from py2neo import Node, Relationship\n",
    "import os\n",
    "import json "
   ]
  },
  {
   "cell_type": "code",
   "execution_count": 90,
   "metadata": {},
   "outputs": [],
   "source": [
    "NEO4J_PASSWORD = os.getenv('NEO4J_PASSWORD')"
   ]
  },
  {
   "cell_type": "code",
   "execution_count": 3,
   "metadata": {},
   "outputs": [],
   "source": [
    "graph = Graph(\"bolt://localhost:7687/db/data/\", user=\"neo4j\", password=NEO4J_PASSWORD)"
   ]
  },
  {
   "cell_type": "code",
   "execution_count": 4,
   "metadata": {},
   "outputs": [],
   "source": [
    "with open('data.json', 'r', encoding='utf8') as f:\n",
    "    data = json.load(f)"
   ]
  },
  {
   "cell_type": "code",
   "execution_count": 80,
   "metadata": {},
   "outputs": [],
   "source": [
    "album1 = data[0]"
   ]
  },
  {
   "cell_type": "code",
   "execution_count": 6,
   "metadata": {},
   "outputs": [
    {
     "name": "stdout",
     "output_type": "stream",
     "text": [
      "{\n",
      "    \"album\": \"HISTÓRIA ANTIGA\",\n",
      "    \"faixas\": {\n",
      "        \"faixa 01\": {\n",
      "            \"compositores\": [\n",
      "                \"Augusto Calheiros\",\n",
      "                \"Jararaca (José Luiz Rodrigues Calazans)\",\n",
      "                \"Zé do Bambo\"\n",
      "            ],\n",
      "            \"musica\": [\n",
      "                \"Do Pilá\"\n",
      "            ],\n",
      "            \"musicos\": [\n",
      "                \"Bré Rosário : Pandeiro\",\n",
      "                \"Bré Rosário : Caxixi\",\n",
      "                \"Bré Rosário : Queixada\",\n",
      "                \"Bré Rosário : Efeitos\",\n",
      "                \"Dori Caymmi : Violão\",\n",
      "                \"Sizão Machado : Baixo Freetless\",\n",
      "                \"Teco Cardoso : Flautas de Madeira\",\n",
      "                \"Teco Cardoso : Flauta G\",\n",
      "                \"Teco Cardoso : Flautas de Bambu\"\n",
      "            ]\n",
      "        },\n",
      "        \"faixa 02\": {\n",
      "            \"compositores\": [\n",
      "                \"Chico Buarque\",\n",
      "                \"Edu Lobo\"\n",
      "            ],\n",
      "            \"musica\": [\n",
      "                \"Na Ilha De Lia, No Barco De Rosa (Meio-Dia, Meia-Lua)\"\n",
      "            ],\n",
      "            \"musicos\": [\n",
      "                \"Airton Adelino Pinto : Violino\",\n",
      "                \"Altamir Tea Bueno Salinas : Violino\",\n",
      "                \"Dori Caymmi : Violão\",\n",
      "                \"Dori Caymmi : Regência\",\n",
      "                \"Estella Cerezo Ortiz : Viola de Arco\",\n",
      "                \"Renato Braz : Caxixi\",\n",
      "                \"Renato Braz : Triângulo\",\n",
      "                \"Renato Braz : Afoxé\",\n",
      "                \"Renato Braz : Efeitos\",\n",
      "                \"Renato Braz : Moringa\",\n",
      "                \"Sizão Machado : Baixo Freetless\",\n",
      "                \"Teco Cardoso : Flautas de Bambu\",\n",
      "                \"Teco Cardoso : Flauta G\",\n",
      "                \"Watson Clis : Violoncelo\"\n",
      "            ]\n",
      "        },\n",
      "        \"faixa 03\": {\n",
      "            \"compositores\": [\n",
      "                \"Tom Jobim\",\n",
      "                \"Vinícius de Moraes\"\n",
      "            ],\n",
      "            \"musica\": [\n",
      "                \"Chora Coração\"\n",
      "            ],\n",
      "            \"musicos\": [\n",
      "                \"Airton Adelino Pinto : Violino\",\n",
      "                \"Altamir Tea Bueno Salinas : Violino\",\n",
      "                \"Dori Caymmi : Violão\",\n",
      "                \"Dori Caymmi : Regência\",\n",
      "                \"Estella Cerezo Ortiz : Viola de Arco\",\n",
      "                \"Gerson Oikawa : Violão\",\n",
      "                \"Sizão Machado : Baixo Freetless\",\n",
      "                \"Watson Clis : Violoncelo\"\n",
      "            ]\n",
      "        },\n",
      "        \"faixa 04\": {\n",
      "            \"compositores\": [\n",
      "                \"Zé Dantas (José de Souza Dantas Filho)\"\n",
      "            ],\n",
      "            \"musica\": [\n",
      "                \"Acauã\"\n",
      "            ],\n",
      "            \"musicos\": [\n",
      "                \"Bré Rosário : Pandeiro\",\n",
      "                \"Sizão Machado : Baixo Freetless\",\n",
      "                \"Toninho Ferragutti : Acordeon\"\n",
      "            ]\n",
      "        },\n",
      "        \"faixa 05\": {\n",
      "            \"compositores\": [\n",
      "                \"Gerson Conrad\",\n",
      "                \"João Ricardo\"\n",
      "            ],\n",
      "            \"musica\": [\n",
      "                \"El Rey\"\n",
      "            ],\n",
      "            \"musicos\": [\n",
      "                \"Renato Braz : Block\",\n",
      "                \"Renato Braz : Congas\",\n",
      "                \"Renato Braz : Derbak\",\n",
      "                \"Renato Braz : Tambor Árabe\",\n",
      "                \"Renato Braz : Violão\",\n",
      "                \"Toninho Ferragutti : Acordeon\"\n",
      "            ]\n",
      "        },\n",
      "        \"faixa 06\": {\n",
      "            \"compositores\": [\n",
      "                \"Dori Caymmi\",\n",
      "                \"Paulo César Pinheiro\",\n",
      "                \"Tracy Mann (versão)\"\n",
      "            ],\n",
      "            \"musica\": [\n",
      "                \"Flor Da Bahia\"\n",
      "            ],\n",
      "            \"musicos\": [\n",
      "                \"Bré Rosário : Caxixi\",\n",
      "                \"Bré Rosário : Triângulo\",\n",
      "                \"Bré Rosário : Berimbau\",\n",
      "                \"Bré Rosário : Efeitos\",\n",
      "                \"Dori Caymmi : Violão\",\n",
      "                \"Renato Braz : Efeitos\",\n",
      "                \"Renato Braz : Congas\",\n",
      "                \"Sizão Machado : Contrabaixo\",\n",
      "                \"Teco Cardoso : Flautas de Bambu\",\n",
      "                \"Teco Cardoso : Flauta G\"\n",
      "            ]\n",
      "        },\n",
      "        \"faixa 07\": {\n",
      "            \"compositores\": [\n",
      "                \"Dori Caymmi\",\n",
      "                \"Paulo César Pinheiro\"\n",
      "            ],\n",
      "            \"musica\": [\n",
      "                \"História Antiga\"\n",
      "            ],\n",
      "            \"musicos\": [\n",
      "                \"Dori Caymmi : Vocal\",\n",
      "                \"Dori Caymmi : Violão\",\n",
      "                \"Renato Braz : Vocal\",\n",
      "                \"Sizão Machado : Contrabaixo\",\n",
      "                \"Teco Cardoso : Flautas de Madeira\"\n",
      "            ]\n",
      "        },\n",
      "        \"faixa 08\": {\n",
      "            \"compositores\": [\n",
      "                \"Ernesto Grenet Sanchez\"\n",
      "            ],\n",
      "            \"musica\": [\n",
      "                \"Drume Negrita\"\n",
      "            ],\n",
      "            \"musicos\": [\n",
      "                \"Kiko Osório : Bongô\",\n",
      "                \"Walmir de Almeida Gil : Flugelhorn\"\n",
      "            ]\n",
      "        },\n",
      "        \"faixa 09\": {\n",
      "            \"compositores\": [\n",
      "                \"Tom Jobim\",\n",
      "                \"Vinícius de Moraes\"\n",
      "            ],\n",
      "            \"musica\": [\n",
      "                \"Eu Não Existo Sem Você\"\n",
      "            ],\n",
      "            \"musicos\": [\n",
      "                \"Airton Adelino Pinto : Violino\",\n",
      "                \"Altamir Tea Bueno Salinas : Violino\",\n",
      "                \"Dori Caymmi : Violão\",\n",
      "                \"Dori Caymmi : Regência\",\n",
      "                \"Estella Cerezo Ortiz : Viola de Arco\",\n",
      "                \"Sizão Machado : Contrabaixo\",\n",
      "                \"Watson Clis : Violoncelo\"\n",
      "            ]\n",
      "        },\n",
      "        \"faixa 10\": {\n",
      "            \"compositores\": [\n",
      "                \"Chico Buarque\"\n",
      "            ],\n",
      "            \"musica\": [\n",
      "                \"Sentimental\"\n",
      "            ],\n",
      "            \"musicos\": [\n",
      "                \"Gerson Oikawa : Violões\",\n",
      "                \"Renato Braz : Triângulos\",\n",
      "                \"Renato Braz : Moringas\"\n",
      "            ]\n",
      "        },\n",
      "        \"faixa 11\": {\n",
      "            \"compositores\": [\n",
      "                \"Mário Gil\"\n",
      "            ],\n",
      "            \"musica\": [\n",
      "                \"Luz Do Cais\"\n",
      "            ],\n",
      "            \"musicos\": [\n",
      "                \"Dori Caymmi : Violão\",\n",
      "                \"Sizão Machado : Baixo Freetless\"\n",
      "            ]\n",
      "        },\n",
      "        \"faixa 12\": {\n",
      "            \"compositores\": [\n",
      "                \"Cury\"\n",
      "            ],\n",
      "            \"musica\": [\n",
      "                \"O Que Me Importa\"\n",
      "            ],\n",
      "            \"musicos\": [\n",
      "                \"Dori Caymmi : Violão\",\n",
      "                \"Sizão Machado : Contrabaixo\",\n",
      "                \"Teco Cardoso : Saxofone Soprano\"\n",
      "            ]\n",
      "        },\n",
      "        \"faixa 13\": {\n",
      "            \"compositores\": [\n",
      "                \"Caetano Veloso\",\n",
      "                \"Maiakowski (poema)\",\n",
      "                \"Ney Costa Santos\"\n",
      "            ],\n",
      "            \"musica\": [\n",
      "                \"O Amor\"\n",
      "            ],\n",
      "            \"musicos\": [\n",
      "                \"Bré Rosário : Ganzá\",\n",
      "                \"Bré Rosário : Efeitos\",\n",
      "                \"Bré Rosário : Xequerê\",\n",
      "                \"Gerson Oikawa : Violão Aço\",\n",
      "                \"Renato Braz : Violão\",\n",
      "                \"Sizão Machado : Baixo Freetless\",\n",
      "                \"Toninho Ferragutti : Acordeon\"\n",
      "            ]\n",
      "        }\n",
      "    },\n",
      "    \"info_album\": {\n",
      "        \"Característica\": \"vocal\",\n",
      "        \"Formatos\": \"(CD/1998)\",\n",
      "        \"Gravadora\": \"Atração Fonográfica\",\n",
      "        \"Observação\": \"Disco cedido por Lia Machado Alvim para esta Discografia.\",\n",
      "        \"Primeiro disco\": \"1998\",\n",
      "        \"Produtor\": \"Edson Natale\"\n",
      "    },\n",
      "    \"interpretes\": [\n",
      "        \"Renato Braz\"\n",
      "    ]\n",
      "}\n"
     ]
    }
   ],
   "source": [
    "print(json.dumps(album1, indent=4, sort_keys=True, ensure_ascii=False))"
   ]
  },
  {
   "cell_type": "code",
   "execution_count": 7,
   "metadata": {},
   "outputs": [
    {
     "data": {
      "text/plain": [
       "'HISTÓRIA ANTIGA'"
      ]
     },
     "execution_count": 7,
     "metadata": {},
     "output_type": "execute_result"
    }
   ],
   "source": [
    "album1['album']"
   ]
  },
  {
   "cell_type": "code",
   "execution_count": 8,
   "metadata": {},
   "outputs": [
    {
     "data": {
      "text/plain": [
       "['Renato Braz']"
      ]
     },
     "execution_count": 8,
     "metadata": {},
     "output_type": "execute_result"
    }
   ],
   "source": [
    "album1['interpretes']"
   ]
  },
  {
   "cell_type": "code",
   "execution_count": 9,
   "metadata": {},
   "outputs": [
    {
     "data": {
      "text/plain": [
       "['faixa 01',\n",
       " 'faixa 02',\n",
       " 'faixa 03',\n",
       " 'faixa 04',\n",
       " 'faixa 05',\n",
       " 'faixa 06',\n",
       " 'faixa 07',\n",
       " 'faixa 08',\n",
       " 'faixa 09',\n",
       " 'faixa 10',\n",
       " 'faixa 11',\n",
       " 'faixa 12',\n",
       " 'faixa 13']"
      ]
     },
     "execution_count": 9,
     "metadata": {},
     "output_type": "execute_result"
    }
   ],
   "source": [
    "faixas = list(album1['faixas'].keys())\n",
    "faixas"
   ]
  },
  {
   "cell_type": "code",
   "execution_count": 10,
   "metadata": {},
   "outputs": [
    {
     "data": {
      "text/plain": [
       "{'musica': ['Do Pilá'],\n",
       " 'compositores': ['Augusto Calheiros',\n",
       "  'Jararaca (José Luiz Rodrigues Calazans)',\n",
       "  'Zé do Bambo'],\n",
       " 'musicos': ['Bré Rosário : Pandeiro',\n",
       "  'Bré Rosário : Caxixi',\n",
       "  'Bré Rosário : Queixada',\n",
       "  'Bré Rosário : Efeitos',\n",
       "  'Dori Caymmi : Violão',\n",
       "  'Sizão Machado : Baixo Freetless',\n",
       "  'Teco Cardoso : Flautas de Madeira',\n",
       "  'Teco Cardoso : Flauta G',\n",
       "  'Teco Cardoso : Flautas de Bambu']}"
      ]
     },
     "execution_count": 10,
     "metadata": {},
     "output_type": "execute_result"
    }
   ],
   "source": [
    "musica = album1['faixas'][faixas[0]]\n",
    "musica"
   ]
  },
  {
   "cell_type": "code",
   "execution_count": 11,
   "metadata": {},
   "outputs": [
    {
     "data": {
      "text/plain": [
       "['Do Pilá']"
      ]
     },
     "execution_count": 11,
     "metadata": {},
     "output_type": "execute_result"
    }
   ],
   "source": [
    "musica['musica']"
   ]
  },
  {
   "cell_type": "code",
   "execution_count": 12,
   "metadata": {},
   "outputs": [
    {
     "data": {
      "text/plain": [
       "['Augusto Calheiros', 'Jararaca (José Luiz Rodrigues Calazans)', 'Zé do Bambo']"
      ]
     },
     "execution_count": 12,
     "metadata": {},
     "output_type": "execute_result"
    }
   ],
   "source": [
    "musica['compositores']"
   ]
  },
  {
   "cell_type": "code",
   "execution_count": 13,
   "metadata": {},
   "outputs": [
    {
     "data": {
      "text/plain": [
       "['Bré Rosário : Pandeiro',\n",
       " 'Bré Rosário : Caxixi',\n",
       " 'Bré Rosário : Queixada',\n",
       " 'Bré Rosário : Efeitos',\n",
       " 'Dori Caymmi : Violão',\n",
       " 'Sizão Machado : Baixo Freetless',\n",
       " 'Teco Cardoso : Flautas de Madeira',\n",
       " 'Teco Cardoso : Flauta G',\n",
       " 'Teco Cardoso : Flautas de Bambu']"
      ]
     },
     "execution_count": 13,
     "metadata": {},
     "output_type": "execute_result"
    }
   ],
   "source": [
    "musica['musicos']"
   ]
  },
  {
   "cell_type": "code",
   "execution_count": 14,
   "metadata": {},
   "outputs": [
    {
     "data": {
      "text/plain": [
       "{'Característica': 'vocal',\n",
       " 'Gravadora': 'Atração Fonográfica',\n",
       " 'Produtor': 'Edson Natale',\n",
       " 'Formatos': '(CD/1998)',\n",
       " 'Primeiro disco': '1998',\n",
       " 'Observação': 'Disco cedido por Lia Machado Alvim para esta Discografia.'}"
      ]
     },
     "execution_count": 14,
     "metadata": {},
     "output_type": "execute_result"
    }
   ],
   "source": [
    "album1['info_album']"
   ]
  },
  {
   "cell_type": "code",
   "execution_count": 15,
   "metadata": {},
   "outputs": [
    {
     "data": {
      "text/plain": [
       "'vocal'"
      ]
     },
     "execution_count": 15,
     "metadata": {},
     "output_type": "execute_result"
    }
   ],
   "source": [
    "album1['info_album']['Característica']"
   ]
  },
  {
   "cell_type": "markdown",
   "metadata": {},
   "source": [
    "# Craindo nós e relacionamentos"
   ]
  },
  {
   "cell_type": "code",
   "execution_count": 82,
   "metadata": {},
   "outputs": [],
   "source": [
    "album = Node('Álbum', nome_album=album1['album'], \n",
    "             caracteristica=album1['info_album']['Característica'],\n",
    "            formatos=album1['info_album']['Formatos'],\n",
    "            primeiro_disco=album1['info_album']['Primeiro disco'])"
   ]
  },
  {
   "cell_type": "code",
   "execution_count": 83,
   "metadata": {},
   "outputs": [],
   "source": [
    "album = Node('Álbum', nome_album=album1['album'], \n",
    "             caracteristica=album1['info_album']['Característica'],\n",
    "            formatos=album1['info_album']['Formatos'],\n",
    "            primeiro_disco=album1['info_album']['Primeiro disco'])"
   ]
  },
  {
   "cell_type": "code",
   "execution_count": 84,
   "metadata": {},
   "outputs": [],
   "source": [
    "graph.create(album)"
   ]
  },
  {
   "cell_type": "code",
   "execution_count": 85,
   "metadata": {},
   "outputs": [],
   "source": [
    "gravadora = Node('Gravadora', nome_gravadora=album1['info_album']['Gravadora'])"
   ]
  },
  {
   "cell_type": "code",
   "execution_count": 86,
   "metadata": {},
   "outputs": [],
   "source": [
    "graph.create(gravadora)"
   ]
  },
  {
   "cell_type": "code",
   "execution_count": 87,
   "metadata": {},
   "outputs": [],
   "source": [
    "graph.create(Relationship(album, 'GRAVADO_EM', gravadora))"
   ]
  },
  {
   "cell_type": "code",
   "execution_count": 88,
   "metadata": {},
   "outputs": [
    {
     "data": {
      "text/plain": [
       "{'musica': ['Do Pilá'],\n",
       " 'compositores': ['Augusto Calheiros',\n",
       "  'Jararaca (José Luiz Rodrigues Calazans)',\n",
       "  'Zé do Bambo'],\n",
       " 'musicos': ['Bré Rosário : Pandeiro',\n",
       "  'Bré Rosário : Caxixi',\n",
       "  'Bré Rosário : Queixada',\n",
       "  'Bré Rosário : Efeitos',\n",
       "  'Dori Caymmi : Violão',\n",
       "  'Sizão Machado : Baixo Freetless',\n",
       "  'Teco Cardoso : Flautas de Madeira',\n",
       "  'Teco Cardoso : Flauta G',\n",
       "  'Teco Cardoso : Flautas de Bambu']}"
      ]
     },
     "execution_count": 88,
     "metadata": {},
     "output_type": "execute_result"
    }
   ],
   "source": [
    "album1['faixas'][faixas[0]]"
   ]
  },
  {
   "cell_type": "code",
   "execution_count": 36,
   "metadata": {},
   "outputs": [
    {
     "data": {
      "text/plain": [
       "'Bré Rosário : Pandeiro'"
      ]
     },
     "execution_count": 36,
     "metadata": {},
     "output_type": "execute_result"
    }
   ],
   "source": [
    "teste = album1['faixas'][faixas[0]]['musicos'][0]\n",
    "teste"
   ]
  },
  {
   "cell_type": "code",
   "execution_count": 37,
   "metadata": {},
   "outputs": [],
   "source": [
    "nome_musico, instrumento = [string.strip() for string in teste.split(':')]"
   ]
  },
  {
   "cell_type": "code",
   "execution_count": 38,
   "metadata": {},
   "outputs": [
    {
     "data": {
      "text/plain": [
       "'Bré Rosário'"
      ]
     },
     "execution_count": 38,
     "metadata": {},
     "output_type": "execute_result"
    }
   ],
   "source": [
    "nome_musico"
   ]
  },
  {
   "cell_type": "code",
   "execution_count": 39,
   "metadata": {},
   "outputs": [
    {
     "data": {
      "text/plain": [
       "'Pandeiro'"
      ]
     },
     "execution_count": 39,
     "metadata": {},
     "output_type": "execute_result"
    }
   ],
   "source": [
    "instrumento"
   ]
  },
  {
   "cell_type": "code",
   "execution_count": 40,
   "metadata": {},
   "outputs": [
    {
     "data": {
      "text/plain": [
       "\"CREATE (:Música{'nome_musica':'a'})-[:PRESENTE{faixa:'b'}]-(:Álbum{'nome_album':'c'})\""
      ]
     },
     "execution_count": 40,
     "metadata": {},
     "output_type": "execute_result"
    }
   ],
   "source": [
    "\"CREATE (:Música{'nome_musica':'%s'})-[:PRESENTE{faixa:'%s'}]-(:Álbum{'nome_album':'%s'})\"%('a', 'b', 'c')"
   ]
  },
  {
   "cell_type": "code",
   "execution_count": 89,
   "metadata": {},
   "outputs": [],
   "source": [
    "for item in faixas:\n",
    "    faixa_album = album1['faixas'][item]\n",
    "    for musica in faixa_album['musica']:\n",
    "        #node_musica = Node('Música', nome_musica=musica)\n",
    "        # graph.create(node_musica)\n",
    "        #graph.create(Relationship(node_musica, 'presente', album, {'faixa':item}))\n",
    "        graph.run('MERGE (:Música{nome_musica:\"%s\"})'%(musica))\n",
    "        query = \"MATCH (musica:Música{nome_musica:'%s'}), (album:Álbum{nome_album:'%s'}) \\\n",
    "         CREATE UNIQUE (musica)-[:PRESENTE{faixa:'%s'}]->(album)\"%(musica, album1['album'], item)\n",
    "        graph.run(query)\n",
    "        for compositor in faixa_album['compositores']:\n",
    "            #node_compositor = Node('Compositor', nome_compositor=compositor)\n",
    "            #graph.create(node_compositor)\n",
    "            #graph.create(Relationship(node_compositor, 'compos', node_musica))\n",
    "            graph.run('MERGE (:Compositor{nome_compositor:\"%s\"})'%(compositor))\n",
    "            graph.run('MATCH (c:Compositor{nome_compositor:\"%s\"}), (m:Música{nome_musica:\"%s\"}) \\\n",
    "                      CREATE UNIQUE (c)-[:COMPOS]->(m)'%(compositor, musica))\n",
    "        for musico_participante in faixa_album['musicos']:\n",
    "            nome_musico, instrumento = [string.strip() for string in \n",
    "                                        musico_participante.split(':')]\n",
    "            #node_musico = Node('Músico', nome_musico=nome_musico)\n",
    "            #graph.create(node_musico)\n",
    "            # graph.create(Relationship(node_musico, 'tocou', node_musica, {'album':album1['album']}))\n",
    "            graph.run('MERGE (:Músico{nome_musico:\"%s\"})'%(nome_musico))\n",
    "            query = \"MATCH (musico:Músico{nome_musico:'%s'}), (musica:Música{nome_musica:'%s'}) \\\n",
    "            CREATE UNIQUE (musico)-[:TOCOU{album:'%s', instrumento:'%s'}]->(musica)\"%(nome_musico, \n",
    "                                                                                      musica, album1['album'], instrumento)\n",
    "            graph.run(query)\n",
    "            # graph.create(Relationship(node_musico, 'paticipou', album, {'faixa':item,\n",
    "            #                                                         'instrumento':instrumento}))\n",
    "            query = \"MATCH (musico:Músico{nome_musico:'%s'}), (album:Álbum{nome_album:'%s'}) \\\n",
    "            CREATE UNIQUE (musico)-[:PARTICIPOU{faixa:'%s'}]->(album)\"%(nome_musico, album1['album'], item)\n",
    "            graph.run(query)"
   ]
  },
  {
   "cell_type": "code",
   "execution_count": 50,
   "metadata": {},
   "outputs": [
    {
     "data": {
      "text/plain": [
       "{'musica': ['O Amor'],\n",
       " 'compositores': ['Caetano Veloso', 'Maiakowski (poema)', 'Ney Costa Santos'],\n",
       " 'musicos': ['Bré Rosário : Ganzá',\n",
       "  'Bré Rosário : Efeitos',\n",
       "  'Bré Rosário : Xequerê',\n",
       "  'Gerson Oikawa : Violão Aço',\n",
       "  'Renato Braz : Violão',\n",
       "  'Sizão Machado : Baixo Freetless',\n",
       "  'Toninho Ferragutti : Acordeon']}"
      ]
     },
     "execution_count": 50,
     "metadata": {},
     "output_type": "execute_result"
    }
   ],
   "source": [
    "faixa_album"
   ]
  },
  {
   "cell_type": "code",
   "execution_count": 51,
   "metadata": {},
   "outputs": [
    {
     "data": {
      "text/plain": [
       "{'faixa 01': {'musica': ['Do Pilá'],\n",
       "  'compositores': ['Augusto Calheiros',\n",
       "   'Jararaca (José Luiz Rodrigues Calazans)',\n",
       "   'Zé do Bambo'],\n",
       "  'musicos': ['Bré Rosário : Pandeiro',\n",
       "   'Bré Rosário : Caxixi',\n",
       "   'Bré Rosário : Queixada',\n",
       "   'Bré Rosário : Efeitos',\n",
       "   'Dori Caymmi : Violão',\n",
       "   'Sizão Machado : Baixo Freetless',\n",
       "   'Teco Cardoso : Flautas de Madeira',\n",
       "   'Teco Cardoso : Flauta G',\n",
       "   'Teco Cardoso : Flautas de Bambu']},\n",
       " 'faixa 02': {'musica': ['Na Ilha De Lia, No Barco De Rosa (Meio-Dia, Meia-Lua)'],\n",
       "  'compositores': ['Chico Buarque', 'Edu Lobo'],\n",
       "  'musicos': ['Airton Adelino Pinto : Violino',\n",
       "   'Altamir Tea Bueno Salinas : Violino',\n",
       "   'Dori Caymmi : Violão',\n",
       "   'Dori Caymmi : Regência',\n",
       "   'Estella Cerezo Ortiz : Viola de Arco',\n",
       "   'Renato Braz : Caxixi',\n",
       "   'Renato Braz : Triângulo',\n",
       "   'Renato Braz : Afoxé',\n",
       "   'Renato Braz : Efeitos',\n",
       "   'Renato Braz : Moringa',\n",
       "   'Sizão Machado : Baixo Freetless',\n",
       "   'Teco Cardoso : Flautas de Bambu',\n",
       "   'Teco Cardoso : Flauta G',\n",
       "   'Watson Clis : Violoncelo']},\n",
       " 'faixa 03': {'musica': ['Chora Coração'],\n",
       "  'compositores': ['Tom Jobim', 'Vinícius de Moraes'],\n",
       "  'musicos': ['Airton Adelino Pinto : Violino',\n",
       "   'Altamir Tea Bueno Salinas : Violino',\n",
       "   'Dori Caymmi : Violão',\n",
       "   'Dori Caymmi : Regência',\n",
       "   'Estella Cerezo Ortiz : Viola de Arco',\n",
       "   'Gerson Oikawa : Violão',\n",
       "   'Sizão Machado : Baixo Freetless',\n",
       "   'Watson Clis : Violoncelo']},\n",
       " 'faixa 04': {'musica': ['Acauã'],\n",
       "  'compositores': ['Zé Dantas (José de Souza Dantas Filho)'],\n",
       "  'musicos': ['Bré Rosário : Pandeiro',\n",
       "   'Sizão Machado : Baixo Freetless',\n",
       "   'Toninho Ferragutti : Acordeon']},\n",
       " 'faixa 05': {'musica': ['El Rey'],\n",
       "  'compositores': ['Gerson Conrad', 'João Ricardo'],\n",
       "  'musicos': ['Renato Braz : Block',\n",
       "   'Renato Braz : Congas',\n",
       "   'Renato Braz : Derbak',\n",
       "   'Renato Braz : Tambor Árabe',\n",
       "   'Renato Braz : Violão',\n",
       "   'Toninho Ferragutti : Acordeon']},\n",
       " 'faixa 06': {'musica': ['Flor Da Bahia'],\n",
       "  'compositores': ['Dori Caymmi',\n",
       "   'Paulo César Pinheiro',\n",
       "   'Tracy Mann (versão)'],\n",
       "  'musicos': ['Bré Rosário : Caxixi',\n",
       "   'Bré Rosário : Triângulo',\n",
       "   'Bré Rosário : Berimbau',\n",
       "   'Bré Rosário : Efeitos',\n",
       "   'Dori Caymmi : Violão',\n",
       "   'Renato Braz : Efeitos',\n",
       "   'Renato Braz : Congas',\n",
       "   'Sizão Machado : Contrabaixo',\n",
       "   'Teco Cardoso : Flautas de Bambu',\n",
       "   'Teco Cardoso : Flauta G']},\n",
       " 'faixa 07': {'musica': ['História Antiga'],\n",
       "  'compositores': ['Dori Caymmi', 'Paulo César Pinheiro'],\n",
       "  'musicos': ['Dori Caymmi : Vocal',\n",
       "   'Dori Caymmi : Violão',\n",
       "   'Renato Braz : Vocal',\n",
       "   'Sizão Machado : Contrabaixo',\n",
       "   'Teco Cardoso : Flautas de Madeira']},\n",
       " 'faixa 08': {'musica': ['Drume Negrita'],\n",
       "  'compositores': ['Ernesto Grenet Sanchez'],\n",
       "  'musicos': ['Kiko Osório : Bongô', 'Walmir de Almeida Gil : Flugelhorn']},\n",
       " 'faixa 09': {'musica': ['Eu Não Existo Sem Você'],\n",
       "  'compositores': ['Tom Jobim', 'Vinícius de Moraes'],\n",
       "  'musicos': ['Airton Adelino Pinto : Violino',\n",
       "   'Altamir Tea Bueno Salinas : Violino',\n",
       "   'Dori Caymmi : Violão',\n",
       "   'Dori Caymmi : Regência',\n",
       "   'Estella Cerezo Ortiz : Viola de Arco',\n",
       "   'Sizão Machado : Contrabaixo',\n",
       "   'Watson Clis : Violoncelo']},\n",
       " 'faixa 10': {'musica': ['Sentimental'],\n",
       "  'compositores': ['Chico Buarque'],\n",
       "  'musicos': ['Gerson Oikawa : Violões',\n",
       "   'Renato Braz : Triângulos',\n",
       "   'Renato Braz : Moringas']},\n",
       " 'faixa 11': {'musica': ['Luz Do Cais'],\n",
       "  'compositores': ['Mário Gil'],\n",
       "  'musicos': ['Dori Caymmi : Violão', 'Sizão Machado : Baixo Freetless']},\n",
       " 'faixa 12': {'musica': ['O Que Me Importa'],\n",
       "  'compositores': ['Cury'],\n",
       "  'musicos': ['Dori Caymmi : Violão',\n",
       "   'Sizão Machado : Contrabaixo',\n",
       "   'Teco Cardoso : Saxofone Soprano']},\n",
       " 'faixa 13': {'musica': ['O Amor'],\n",
       "  'compositores': ['Caetano Veloso', 'Maiakowski (poema)', 'Ney Costa Santos'],\n",
       "  'musicos': ['Bré Rosário : Ganzá',\n",
       "   'Bré Rosário : Efeitos',\n",
       "   'Bré Rosário : Xequerê',\n",
       "   'Gerson Oikawa : Violão Aço',\n",
       "   'Renato Braz : Violão',\n",
       "   'Sizão Machado : Baixo Freetless',\n",
       "   'Toninho Ferragutti : Acordeon']}}"
      ]
     },
     "execution_count": 51,
     "metadata": {},
     "output_type": "execute_result"
    }
   ],
   "source": [
    "album1['faixas']"
   ]
  }
 ],
 "metadata": {
  "kernelspec": {
   "display_name": "Python 3",
   "language": "python",
   "name": "python3"
  },
  "language_info": {
   "codemirror_mode": {
    "name": "ipython",
    "version": 3
   },
   "file_extension": ".py",
   "mimetype": "text/x-python",
   "name": "python",
   "nbconvert_exporter": "python",
   "pygments_lexer": "ipython3",
   "version": "3.6.7"
  }
 },
 "nbformat": 4,
 "nbformat_minor": 2
}
